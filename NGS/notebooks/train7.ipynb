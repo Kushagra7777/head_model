{
 "cells": [
  {
   "cell_type": "code",
   "execution_count": 1,
   "metadata": {},
   "outputs": [],
   "source": [
    "# to create a folder for feature_count_unknown by Takeshi-san data (70-30 split) so we can understand which features are most releavant for BC \n",
    "\n",
    "#  This notebook actually merge a full dataset with setolabo 5 BC samples. "
   ]
  },
  {
   "cell_type": "code",
   "execution_count": 1,
   "metadata": {},
   "outputs": [],
   "source": [
    "import pandas as pd\n",
    "from sklearn.model_selection import train_test_split"
   ]
  },
  {
   "cell_type": "code",
   "execution_count": 2,
   "metadata": {},
   "outputs": [],
   "source": [
    "df_GRE = pd.read_excel('E:/MedBank/head_model/NGS/data_shared_by_Takeshi-san/GastricCancer_readCounts.xlsx')\n",
    "df_seto = pd.read_csv('E:/MedBank/head_model/NGS/data_shared_by_Takeshi-san/expression_count_test_20240807.csv')\n",
    "\n",
    "# df_GRE = df_GRE.drop(columns=['ID'])\n",
    "df_GRE = df_GRE.drop_duplicates(subset=['miRNA'], keep='first')\n",
    "columns = df_GRE.columns.tolist()\n",
    "labels_GRE = []\n",
    "for item in columns:\n",
    "    if item.startswith('case'):\n",
    "        labels_GRE.append(0)\n",
    "    elif item.startswith('control'):\n",
    "        labels_GRE.append(1)    \n",
    "    else:\n",
    "        pass\n",
    "#seto samples are all cancerous so all labels are zero\n",
    "labels_seto = [0 for i in range(5)]\n",
    "\n",
    "features = df_GRE['miRNA'].tolist()  \n",
    "\n",
    "df_seto = df_seto[df_seto['gene_id'].isin(features)]\n",
    "features = df_seto['gene_id']\n",
    "df_GRE = df_GRE[df_GRE['miRNA'].isin(features)]\n",
    "features = df_GRE['miRNA']\n",
    "df_GRE = df_GRE.sort_values(by='miRNA')\n",
    "df_seto = df_seto.sort_values(by='gene_id')\n",
    "df_GRE = df_GRE.T\n",
    "df_seto = df_seto.T\n",
    "df_GRE.reset_index(drop=True, inplace=True)\n",
    "df_seto.reset_index(drop=True, inplace=True)\n",
    "df_seto.columns = df_seto.iloc[0].tolist()\n",
    "df_seto = df_seto[1:]\n",
    "df_GRE.columns = df_GRE.iloc[0].tolist()\n",
    "df_GRE = df_GRE[1:]\n",
    "df_GRE['labels'] = labels_GRE\n",
    "df_seto['labels'] = labels_seto\n",
    "df = pd.concat([df_GRE, df_seto], ignore_index=True)\n",
    "df.columns = [''] * len(df.columns)\n",
    "\n",
    "df_train, df_test = train_test_split(df, test_size=0.3, random_state=42)\n",
    "labels_train = df_train.iloc[:,-1].tolist()\n",
    "labels_test = df_test.iloc[:,-1].tolist()\n",
    "df_train = df_train.iloc[:, :-1]\n",
    "df_test = df_test.iloc[:, :-1]\n"
   ]
  },
  {
   "cell_type": "code",
   "execution_count": 3,
   "metadata": {},
   "outputs": [],
   "source": [
    "# Define NGS version as a variable\n",
    "ngs_version = \"NGS_4\"  # You can change this value as needed\n",
    "\n",
    "# Paths for train and test feature vectors\n",
    "file_path = f\"E:/MedBank/head_model/NGS/{ngs_version}/train/feature_vectors.csv\"\n",
    "df_train.to_csv(file_path, index=False, header=False)\n",
    "\n",
    "file_path = f\"E:/MedBank/head_model/NGS/{ngs_version}/test/feature_vectors.csv\"\n",
    "df_test.to_csv(file_path, index=False, header=False)\n",
    "\n",
    "##--------------------------------------------------------\n",
    "\n",
    "# Paths for train and test labels\n",
    "file_path = f\"E:/MedBank/head_model/NGS/{ngs_version}/train/labels.txt\"\n",
    "with open(file_path, 'w') as file:\n",
    "    for label in labels_train:\n",
    "        file.write(f\"{label}\\n\")\n",
    "\n",
    "file_path = f\"E:/MedBank/head_model/NGS/{ngs_version}/test/labels.txt\"\n",
    "with open(file_path, 'w') as file:\n",
    "    for label in labels_test:\n",
    "        file.write(f\"{label}\\n\")\n",
    "\n",
    "##--------------------------------------------------------\n",
    "\n",
    "# Path for feature names\n",
    "file_path = f\"E:/MedBank/head_model/NGS/{ngs_version}/feature_names.txt\"\n",
    "with open(file_path, 'w') as file:\n",
    "    for label in features:\n",
    "        file.write(f\"{label}\\n\")\n"
   ]
  },
  {
   "cell_type": "code",
   "execution_count": 1,
   "metadata": {},
   "outputs": [
    {
     "name": "stdout",
     "output_type": "stream",
     "text": [
      "True\n"
     ]
    }
   ],
   "source": [
    "text = 'case/sample_analysis/ERR372264/ERR372264_sort.bam'\n",
    "if text.startswith('case'):\n",
    "    print(True)"
   ]
  },
  {
   "cell_type": "code",
   "execution_count": null,
   "metadata": {},
   "outputs": [],
   "source": []
  }
 ],
 "metadata": {
  "kernelspec": {
   "display_name": "myenv",
   "language": "python",
   "name": "python3"
  },
  "language_info": {
   "codemirror_mode": {
    "name": "ipython",
    "version": 3
   },
   "file_extension": ".py",
   "mimetype": "text/x-python",
   "name": "python",
   "nbconvert_exporter": "python",
   "pygments_lexer": "ipython3",
   "version": "3.12.2"
  }
 },
 "nbformat": 4,
 "nbformat_minor": 2
}
