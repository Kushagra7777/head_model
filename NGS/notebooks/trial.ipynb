{
 "cells": [
  {
   "cell_type": "code",
   "execution_count": 14,
   "metadata": {},
   "outputs": [],
   "source": [
    "import pandas as pd\n",
    "from sklearn.preprocessing import MinMaxScaler\n",
    "from sklearn.preprocessing import StandardScaler"
   ]
  },
  {
   "cell_type": "code",
   "execution_count": 15,
   "metadata": {},
   "outputs": [
    {
     "name": "stdout",
     "output_type": "stream",
     "text": [
      "Actual df\n",
      "              gene_id  Sample1  Sample2  Sample3  Sample4  Sample5\n",
      "0       hsa-let-7a-5p   152768   147753    33377   119552    92872\n",
      "1       hsa-let-7a-3p        2        1        6        1        3\n",
      "2     hsa-let-7a-2-3p        0        0        0        0        0\n",
      "3       hsa-let-7b-5p    39937    27455     7200    28693    36428\n",
      "4       hsa-let-7b-3p        7        6        2       11        8\n",
      "...               ...      ...      ...      ...      ...      ...\n",
      "2703    hsa-miR-12132        0        0        0        0        0\n",
      "2704    hsa-miR-12133        0        0        0        0        0\n",
      "2705    hsa-miR-12135       59       89       72       48       37\n",
      "2706    hsa-miR-12136      130      198       42      153       87\n",
      "2707                *        0        0        0        0        0\n",
      "\n",
      "[2708 rows x 6 columns]\n",
      "After removing all zeros rows\n",
      "            gene_id  Sample1  Sample2  Sample3  Sample4  Sample5\n",
      "0     hsa-let-7a-5p   152768   147753    33377   119552    92872\n",
      "1     hsa-let-7a-3p        2        1        6        1        3\n",
      "3     hsa-let-7b-5p    39937    27455     7200    28693    36428\n",
      "4     hsa-let-7b-3p        7        6        2       11        8\n",
      "5     hsa-let-7c-5p      774      625      506      805      563\n",
      "...             ...      ...      ...      ...      ...      ...\n",
      "2697  hsa-miR-12126        1        0        0        0        0\n",
      "2698  hsa-miR-12127       15       15       17       16        9\n",
      "2701  hsa-miR-12130        1        0        0        0        0\n",
      "2705  hsa-miR-12135       59       89       72       48       37\n",
      "2706  hsa-miR-12136      130      198       42      153       87\n",
      "\n",
      "[1652 rows x 6 columns]\n",
      "Labels list\n",
      "[0, 0, 0, 0, 0]\n"
     ]
    }
   ],
   "source": [
    "df = pd.read_csv('expression_count_test_20240807.csv')\n",
    "print('Actual df')\n",
    "print(df)\n",
    "\n",
    "\n",
    "\n",
    "labels = df.iloc[-1, 1:].tolist() #storing labels in a diffrent variable\n",
    "df = df.iloc[:-1]   #removing last row as it is label\n",
    "df = df[df.iloc[:, 1:].ne(0).any(axis=1)]  #removing completely zero rows\n",
    "\n",
    "print('After removing all zeros rows')\n",
    "print(df)\n",
    "\n",
    "print('Labels list')\n",
    "print(labels)\n",
    "\n",
    "\n",
    "\n"
   ]
  },
  {
   "cell_type": "code",
   "execution_count": 18,
   "metadata": {},
   "outputs": [
    {
     "name": "stdout",
     "output_type": "stream",
     "text": [
      "              gene_id  Sample1  Sample2  Sample3  Sample4  Sample5\n",
      "0     hsa-miR-6717-5p      0.0      1.0      0.0      0.0      0.0\n",
      "1     hsa-miR-6836-3p      4.0      3.0      4.0      4.0      7.0\n",
      "2       hsa-miR-17-3p    436.0    513.0    188.0    343.0    440.0\n",
      "3     hsa-miR-125a-3p     36.0      8.0      9.0     52.0     30.0\n",
      "4     hsa-miR-4652-5p      NaN      NaN      NaN      NaN      NaN\n",
      "5     hsa-miR-1307-3p    202.0    203.0     94.0    202.0    194.0\n",
      "6        hsa-miR-3131      2.0      0.0      5.0      0.0      1.0\n",
      "7        hsa-miR-4534      NaN      NaN      NaN      NaN      NaN\n",
      "8      hsa-miR-629-3p      2.0      4.0      3.0      1.0      3.0\n",
      "9   hsa-miR-1185-1-3p    252.0    412.0     31.0    154.0     66.0\n",
      "10     hsa-miR-221-3p   4299.0   5700.0   1846.0   3306.0   1887.0\n",
      "11       hsa-miR-4456      NaN      NaN      NaN      NaN      NaN\n",
      "12       hsa-miR-4730      0.0      1.0      0.0      1.0      0.0\n",
      "13    hsa-miR-3160-5p      2.0      0.0      0.0      0.0      0.0\n",
      "14    hsa-miR-4787-3p      0.0      0.0      1.0      1.0      2.0\n",
      "15     hsa-miR-195-5p     37.0     36.0     17.0     34.0     38.0\n",
      "16    hsa-miR-4783-3p      1.0      2.0      3.0      0.0      0.0\n",
      "17    hsa-miR-1343-3p      0.0      2.0      0.0      0.0      0.0\n",
      "18  hsa-miR-1185-2-3p     11.0     24.0      4.0      9.0      4.0\n",
      "19    hsa-miR-6736-5p      4.0      2.0      2.0      3.0      0.0\n",
      "gene_id hsa-miR-6717-5p hsa-miR-6836-3p hsa-miR-17-3p hsa-miR-125a-3p  \\\n",
      "Sample1             0.0             4.0         436.0            36.0   \n",
      "Sample2             1.0             3.0         513.0             8.0   \n",
      "Sample3             0.0             4.0         188.0             9.0   \n",
      "Sample4             0.0             4.0         343.0            52.0   \n",
      "Sample5             0.0             7.0         440.0            30.0   \n",
      "\n",
      "gene_id hsa-miR-4652-5p hsa-miR-1307-3p hsa-miR-3131 hsa-miR-4534  \\\n",
      "Sample1             NaN           202.0          2.0          NaN   \n",
      "Sample2             NaN           203.0          0.0          NaN   \n",
      "Sample3             NaN            94.0          5.0          NaN   \n",
      "Sample4             NaN           202.0          0.0          NaN   \n",
      "Sample5             NaN           194.0          1.0          NaN   \n",
      "\n",
      "gene_id hsa-miR-629-3p hsa-miR-1185-1-3p hsa-miR-221-3p hsa-miR-4456  \\\n",
      "Sample1            2.0             252.0         4299.0          NaN   \n",
      "Sample2            4.0             412.0         5700.0          NaN   \n",
      "Sample3            3.0              31.0         1846.0          NaN   \n",
      "Sample4            1.0             154.0         3306.0          NaN   \n",
      "Sample5            3.0              66.0         1887.0          NaN   \n",
      "\n",
      "gene_id hsa-miR-4730 hsa-miR-3160-5p hsa-miR-4787-3p hsa-miR-195-5p  \\\n",
      "Sample1          0.0             2.0             0.0           37.0   \n",
      "Sample2          1.0             0.0             0.0           36.0   \n",
      "Sample3          0.0             0.0             1.0           17.0   \n",
      "Sample4          1.0             0.0             1.0           34.0   \n",
      "Sample5          0.0             0.0             2.0           38.0   \n",
      "\n",
      "gene_id hsa-miR-4783-3p hsa-miR-1343-3p hsa-miR-1185-2-3p hsa-miR-6736-5p  \n",
      "Sample1             1.0             0.0              11.0             4.0  \n",
      "Sample2             2.0             2.0              24.0             2.0  \n",
      "Sample3             3.0             0.0               4.0             2.0  \n",
      "Sample4             0.0             0.0               9.0             3.0  \n",
      "Sample5             0.0             0.0               4.0             0.0  \n"
     ]
    }
   ],
   "source": [
    "gene_ids = [\n",
    "    'hsa-miR-6717-5p', 'hsa-miR-6836-3p', 'hsa-miR-17-3p',\n",
    "    'hsa-miR-125a-3p', 'hsa-miR-4652-5p', 'hsa-miR-1307-3p',\n",
    "    'hsa-miR-3131', 'hsa-miR-4534', 'hsa-miR-629-3p',\n",
    "    'hsa-miR-1185-1-3p', 'hsa-miR-221-3p', 'hsa-miR-4456',\n",
    "    'hsa-miR-4730', 'hsa-miR-3160-5p', 'hsa-miR-4787-3p',\n",
    "    'hsa-miR-195-5p', 'hsa-miR-4783-3p', 'hsa-miR-1343-3p',\n",
    "    'hsa-miR-1185-2-3p', 'hsa-miR-6736-5p'\n",
    "]\n",
    "\n",
    "# Filter the DataFrame to get rows with the specified gene_ids\n",
    "filtered_df = df[df['gene_id'].isin(gene_ids)]\n",
    "filtered_df = filtered_df.set_index('gene_id').reindex(gene_ids).reset_index()\n",
    "# filtered_df = filtered_df[:, 1:]\n",
    "# filtered_df = filtered_df.drop(filtered_df.columns[0], axis=1)\n",
    "# Display the filtered DataFrame\n",
    "print(filtered_df)\n",
    "filtered_df_T = filtered_df.T\n",
    "\n",
    "\n",
    "filtered_df_T.columns = filtered_df_T.iloc[0]\n",
    "filtered_df_T = filtered_df_T[1:]\n",
    "print(filtered_df_T)"
   ]
  },
  {
   "cell_type": "code",
   "execution_count": 56,
   "metadata": {},
   "outputs": [
    {
     "name": "stdout",
     "output_type": "stream",
     "text": [
      "          0         1         2         3     4         5         6         7  \\\n",
      "0  0.000000  0.009304  1.014189  0.586183  10.0  0.004652  0.000000  0.002326   \n",
      "1  0.001754  0.005263  0.900000  0.722807  10.0  0.000000  0.000000  0.003509   \n",
      "2  0.000000  0.021668  1.018418  0.167931  10.0  0.000000  0.005417  0.016251   \n",
      "3  0.000000  0.012099  1.037508  0.465820  10.0  0.000000  0.003025  0.000000   \n",
      "4  0.000000  0.037096  2.331744  0.349762  10.0  0.000000  0.010599  0.000000   \n",
      "\n",
      "          8         9  \n",
      "0  0.000000  0.009304  \n",
      "1  0.003509  0.003509  \n",
      "2  0.000000  0.010834  \n",
      "3  0.000000  0.009074  \n",
      "4  0.000000  0.000000  \n"
     ]
    }
   ],
   "source": [
    "normalized_df = filtered_df_T.apply(lambda x: 10 * (x - x.min()) / (x.max() - x.min()), axis=1)  #each row normalizing seperately\n",
    "\n",
    "\n",
    "normalized_df.columns = normalized_df.iloc[0]\n",
    "normalized_df = normalized_df[1:]\n",
    "# normalized_df.reset_index(drop=True, inplace=True)\n",
    "\n",
    "header_row = pd.DataFrame([normalized_df.columns.tolist()], columns=normalized_df.columns)\n",
    "\n",
    "# Append the header row to the DataFrame\n",
    "df_with_header_as_row = pd.concat([header_row, normalized_df], ignore_index=True)\n",
    "df_with_header_as_row.columns = range(df_with_header_as_row.shape[1])\n",
    "# df_with_header_as_row = df_with_header_as_row.astype(float)\n",
    "print(df_with_header_as_row)\n",
    "file_path = \"E:/MedBank/head_model/head/work_dir/NGS_0/test/feature_vectors.csv\"\n",
    "df_with_header_as_row.to_csv(file_path, index=False, header=False)"
   ]
  },
  {
   "cell_type": "code",
   "execution_count": 13,
   "metadata": {},
   "outputs": [
    {
     "name": "stdout",
     "output_type": "stream",
     "text": [
      "             0         1         2         3         4         5         6   \\\n",
      "0      0.601375  0.579670  0.359686  0.006429  0.231284  0.637124  0.470694   \n",
      "1      0.000000  0.528293  0.180715  0.150223  0.009908  0.298529  0.428670   \n",
      "2      0.219714  0.564028  0.435180  0.164055  0.009908  0.481011  0.360547   \n",
      "3      0.529921  0.440363  0.620699  0.006429  0.009908  0.673714  0.398049   \n",
      "4      0.274445  0.695183  0.424996  0.132618  0.246404  0.619574  0.423359   \n",
      "...         ...       ...       ...       ...       ...       ...       ...   \n",
      "12947  0.537337  0.824209  0.000000  0.389004  0.009908  0.563534  0.767739   \n",
      "12948  0.692802  0.560395  0.517262  0.265034  0.354548  0.650092  0.532357   \n",
      "12949  0.410751  0.423000  0.408968  0.006429  0.009908  0.237621  0.308724   \n",
      "12950  0.000000  0.476363  0.409141  0.006429  0.425601  0.238650  0.209455   \n",
      "12951  0.660770  0.643247  0.493239  0.177752  0.250985  0.670600  0.501749   \n",
      "\n",
      "             7         8         9         10        11        12        13  \\\n",
      "0      0.509717  0.007034  0.583351  0.291969  0.009719  0.387911  0.297041   \n",
      "1      0.429666  0.007034  0.607201  0.234347  0.009719  0.282167  0.239447   \n",
      "2      0.325060  0.354895  0.643874  0.371602  0.009719  0.287130  0.366489   \n",
      "3      0.463158  0.007034  0.533167  0.008426  0.009719  0.319511  0.563153   \n",
      "4      0.597314  0.209576  0.706792  0.385223  0.176426  0.493721  0.359777   \n",
      "...         ...       ...       ...       ...       ...       ...       ...   \n",
      "12947  0.731164  0.442532  0.792909  0.008426  0.009719  0.772120  0.335175   \n",
      "12948  0.511123  0.007034  0.480153  0.008426  0.009719  0.388619  0.844170   \n",
      "12949  0.350435  0.007034  0.174581  0.284104  0.009719  0.081873  0.467651   \n",
      "12950  0.347684  0.007034  0.498760  0.008426  0.009719  0.247010  0.716871   \n",
      "12951  0.474579  0.297542  0.692167  0.008426  0.009719  0.364256  0.347040   \n",
      "\n",
      "             14        15        16        17        18        19  \n",
      "0      0.463182  0.010764  0.724420  0.555721  0.561272  0.009569  \n",
      "1      0.381325  0.290773  0.363868  0.281931  0.579333  0.009569  \n",
      "2      0.587786  0.514219  0.553026  0.432556  0.636851  0.462586  \n",
      "3      0.332455  0.010764  0.706963  0.458340  0.494900  0.009569  \n",
      "4      0.683350  0.254802  0.704854  0.527422  0.680722  0.009569  \n",
      "...         ...       ...       ...       ...       ...       ...  \n",
      "12947  0.574595  0.010764  0.609686  0.539631  0.767477  0.009569  \n",
      "12948  0.644461  0.010764  0.730279  0.698043  0.429137  0.009569  \n",
      "12949  0.357149  0.121184  0.289643  0.475224  0.000000  0.009569  \n",
      "12950  0.503028  0.010764  0.296114  0.287805  0.494572  0.009569  \n",
      "12951  0.658098  0.010764  0.741192  0.667502  0.701396  0.265698  \n",
      "\n",
      "[12952 rows x 20 columns]\n"
     ]
    }
   ],
   "source": [
    "#Normalizing training data\n",
    "\n",
    "df_train = pd.read_csv(\"E:/MedBank/head_model/head/work_dir/0/train/feature_vectors.csv\", header=None)\n",
    "\n",
    "scaler = MinMaxScaler()\n",
    "df_train[:] = scaler.fit_transform(df_train)\n",
    "# df_with_header_as_row = df_with_header_as_row.apply(lambda x: 10 * (x - x.min()) / (x.max() - x.min()), axis=1) \n",
    "print(df_train)\n",
    "file_path = \"E:/MedBank/head_model/head/work_dir/NGS_0/train/feature_vectors.csv\"\n",
    "df_train.to_csv(file_path, index=False, header=False)"
   ]
  },
  {
   "cell_type": "code",
   "execution_count": 25,
   "metadata": {},
   "outputs": [
    {
     "name": "stdout",
     "output_type": "stream",
     "text": [
      "After normalization\n",
      "            gene_id   Sample1   Sample2   Sample3   Sample4   Sample5\n",
      "0     hsa-let-7a-5p  0.352151  0.480096  0.273508  0.293495  0.188074\n",
      "1     hsa-let-7a-3p  0.000005  0.000003  0.000049  0.000002  0.000006\n",
      "3     hsa-let-7b-5p  0.092060  0.089210  0.059000  0.070440  0.073770\n",
      "4     hsa-let-7b-3p  0.000016  0.000019  0.000016  0.000027  0.000016\n",
      "5     hsa-let-7c-5p  0.001784  0.002031  0.004146  0.001976  0.001140\n",
      "...             ...       ...       ...       ...       ...       ...\n",
      "2697  hsa-miR-12126  0.000002  0.000000  0.000000  0.000000  0.000000\n",
      "2698  hsa-miR-12127  0.000035  0.000049  0.000139  0.000039  0.000018\n",
      "2701  hsa-miR-12130  0.000002  0.000000  0.000000  0.000000  0.000000\n",
      "2705  hsa-miR-12135  0.000136  0.000289  0.000590  0.000118  0.000075\n",
      "2706  hsa-miR-12136  0.000300  0.000643  0.000344  0.000376  0.000176\n",
      "\n",
      "[1652 rows x 6 columns]\n"
     ]
    },
    {
     "name": "stderr",
     "output_type": "stream",
     "text": [
      "C:\\Users\\91786\\AppData\\Local\\Temp\\ipykernel_22356\\280294872.py:3: FutureWarning: Setting an item of incompatible dtype is deprecated and will raise in a future error of pandas. Value '[3.52150922e-01 4.61027076e-06 9.20601917e-02 ... 2.30513538e-06\n",
      " 1.36002987e-04 2.99667599e-04]' has dtype incompatible with int64, please explicitly cast to a compatible dtype first.\n",
      "  df.iloc[:, 1:] = scaler.fit_transform(df.iloc[:, 1:])\n",
      "C:\\Users\\91786\\AppData\\Local\\Temp\\ipykernel_22356\\280294872.py:3: FutureWarning: Setting an item of incompatible dtype is deprecated and will raise in a future error of pandas. Value '[4.80096310e-01 3.24931683e-06 8.92099936e-02 ... 0.00000000e+00\n",
      " 2.89189198e-04 6.43364733e-04]' has dtype incompatible with int64, please explicitly cast to a compatible dtype first.\n",
      "  df.iloc[:, 1:] = scaler.fit_transform(df.iloc[:, 1:])\n",
      "C:\\Users\\91786\\AppData\\Local\\Temp\\ipykernel_22356\\280294872.py:3: FutureWarning: Setting an item of incompatible dtype is deprecated and will raise in a future error of pandas. Value '[2.73507986e-01 4.91670286e-05 5.90004343e-02 ... 0.00000000e+00\n",
      " 5.90004343e-04 3.44169200e-04]' has dtype incompatible with int64, please explicitly cast to a compatible dtype first.\n",
      "  df.iloc[:, 1:] = scaler.fit_transform(df.iloc[:, 1:])\n",
      "C:\\Users\\91786\\AppData\\Local\\Temp\\ipykernel_22356\\280294872.py:3: FutureWarning: Setting an item of incompatible dtype is deprecated and will raise in a future error of pandas. Value '[2.93495099e-01 2.45495766e-06 7.04401003e-02 ... 0.00000000e+00\n",
      " 1.17837968e-04 3.75608523e-04]' has dtype incompatible with int64, please explicitly cast to a compatible dtype first.\n",
      "  df.iloc[:, 1:] = scaler.fit_transform(df.iloc[:, 1:])\n",
      "C:\\Users\\91786\\AppData\\Local\\Temp\\ipykernel_22356\\280294872.py:3: FutureWarning: Setting an item of incompatible dtype is deprecated and will raise in a future error of pandas. Value '[1.88074240e-01 6.07527263e-06 7.37700104e-02 ... 0.00000000e+00\n",
      " 7.49283624e-05 1.76182906e-04]' has dtype incompatible with int64, please explicitly cast to a compatible dtype first.\n",
      "  df.iloc[:, 1:] = scaler.fit_transform(df.iloc[:, 1:])\n"
     ]
    }
   ],
   "source": [
    "scaler = MinMaxScaler()\n",
    "# scaler = StandardScaler()\n",
    "df.iloc[:, 1:] = scaler.fit_transform(df.iloc[:, 1:])\n",
    "# df = df.drop(df.columns[0], axis=1)\n",
    "print('After normalization')\n",
    "print(df)"
   ]
  },
  {
   "cell_type": "code",
   "execution_count": 29,
   "metadata": {},
   "outputs": [],
   "source": [
    "df2 = df.T\n",
    "df2.columns = df2.iloc[0]\n",
    "df2 = df2[1:]\n"
   ]
  },
  {
   "cell_type": "code",
   "execution_count": 30,
   "metadata": {},
   "outputs": [
    {
     "name": "stdout",
     "output_type": "stream",
     "text": [
      "             0         1        2         3         4         5         6     \\\n",
      "Sample1  0.352151  0.000005  0.09206  0.000016  0.001784   0.10714  0.000526   \n",
      "Sample2  0.480096  0.000003  0.08921  0.000019  0.002031  0.144533  0.000601   \n",
      "Sample3  0.273508  0.000049    0.059  0.000016  0.004146  0.096359  0.000574   \n",
      "Sample4  0.293495  0.000002  0.07044  0.000027  0.001976  0.091928  0.000425   \n",
      "Sample5  0.188074  0.000006  0.07377  0.000016   0.00114  0.048142  0.000294   \n",
      "\n",
      "             7         8         9     ...      1642      1643      1644  \\\n",
      "Sample1  0.011406  0.000002  0.331419  ...       0.0  0.000007       0.0   \n",
      "Sample2  0.009163       0.0  0.482719  ...       0.0  0.000003  0.000003   \n",
      "Sample3  0.006556       0.0  0.254136  ...  0.000008  0.000008  0.000008   \n",
      "Sample4  0.013394  0.000002  0.273512  ...  0.000002  0.000007       0.0   \n",
      "Sample5  0.004712       0.0  0.154514  ...  0.000002  0.000018       0.0   \n",
      "\n",
      "             1645      1646      1647      1648      1649      1650      1651  \n",
      "Sample1  0.000002       0.0  0.000002  0.000035  0.000002  0.000136    0.0003  \n",
      "Sample2       0.0       0.0       0.0  0.000049       0.0  0.000289  0.000643  \n",
      "Sample3       0.0       0.0       0.0  0.000139       0.0   0.00059  0.000344  \n",
      "Sample4       0.0       0.0       0.0  0.000039       0.0  0.000118  0.000376  \n",
      "Sample5       0.0  0.000002       0.0  0.000018       0.0  0.000075  0.000176  \n",
      "\n",
      "[5 rows x 1652 columns]\n"
     ]
    }
   ],
   "source": [
    "df2.columns = range(df2.shape[1])\n",
    "# print(df2)\n",
    "df2.reset_index(drop=True, inplace=True)\n",
    "\n"
   ]
  },
  {
   "cell_type": "code",
   "execution_count": 112,
   "metadata": {},
   "outputs": [],
   "source": [
    "file_path = \"E:/MedBank/head_model/NGS/NGS_0/test/feature_vectors.csv\"\n",
    "df2.to_csv(file_path, index=False, header=False)\n"
   ]
  },
  {
   "cell_type": "code",
   "execution_count": 109,
   "metadata": {},
   "outputs": [
    {
     "data": {
      "text/plain": [
       "[0, 0, 0, 0, 0]"
      ]
     },
     "execution_count": 109,
     "metadata": {},
     "output_type": "execute_result"
    }
   ],
   "source": [
    "labels"
   ]
  },
  {
   "cell_type": "code",
   "execution_count": 113,
   "metadata": {},
   "outputs": [],
   "source": [
    "file_path = \"E:/MedBank/head_model/NGS/NGS_0/test/labels.txt\"\n",
    "\n",
    "with open(file_path, 'w') as file:\n",
    "    for label in labels:\n",
    "        file.write(f\"{label}\\n\")\n"
   ]
  },
  {
   "cell_type": "code",
   "execution_count": 114,
   "metadata": {},
   "outputs": [],
   "source": [
    "file_path = \"E:/MedBank/head_model/NGS/NGS_0/label_names.txt\"\n",
    "\n",
    "with open(file_path, 'w') as file:\n",
    "    file.write('sample_Label')"
   ]
  },
  {
   "cell_type": "markdown",
   "metadata": {},
   "source": [
    "python single_estimator.py --input_dir work_dir/NGS_0 --result_dir work_dir/NGS_results_0 --seed 42 --estimator random_forest --n_samples -1 --n_features -1"
   ]
  }
 ],
 "metadata": {
  "kernelspec": {
   "display_name": "myenv",
   "language": "python",
   "name": "python3"
  },
  "language_info": {
   "codemirror_mode": {
    "name": "ipython",
    "version": 3
   },
   "file_extension": ".py",
   "mimetype": "text/x-python",
   "name": "python",
   "nbconvert_exporter": "python",
   "pygments_lexer": "ipython3",
   "version": "3.12.2"
  }
 },
 "nbformat": 4,
 "nbformat_minor": 2
}
