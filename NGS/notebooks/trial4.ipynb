{
 "cells": [
  {
   "cell_type": "code",
   "execution_count": 5,
   "metadata": {},
   "outputs": [],
   "source": [
    "# to create a folder fro GSE210329n data (70-30 split) so we can understand which features are most releavant for BC \n",
    "#only for GSE210329 split"
   ]
  },
  {
   "cell_type": "code",
   "execution_count": 1,
   "metadata": {},
   "outputs": [],
   "source": [
    "import pandas as pd\n",
    "from sklearn.model_selection import train_test_split"
   ]
  },
  {
   "cell_type": "code",
   "execution_count": 8,
   "metadata": {},
   "outputs": [],
   "source": [
    "df = pd.read_csv('GSE210329_miRNA_counts.csv')\n",
    "# df = df.iloc[1000:]\n",
    "df = df.drop(columns=['ID'])\n",
    "df = df.drop_duplicates(subset=['miRNAname'], keep='first')\n",
    "columns = df.columns.tolist()\n",
    "labels = []\n",
    "for item in columns:\n",
    "    if item.startswith('BI'):\n",
    "        labels.append(0)\n",
    "    elif item.startswith('TO'):\n",
    "        labels.append(1)    \n",
    "    else:\n",
    "        pass\n",
    "features = df['miRNAname'].tolist()  \n",
    "df = df.drop(columns=['miRNAname']) \n",
    "df = df.T\n",
    "df.reset_index(drop=True, inplace=True)\n",
    "df[''] = labels\n",
    "df_train, df_test = train_test_split(df, test_size=0.3, random_state=42)\n",
    "labels_train = df_train.iloc[:,-1].tolist()\n",
    "labels_test = df_test.iloc[:,-1].tolist()\n",
    "df_train = df_train.iloc[:, :-1]\n",
    "df_test = df_test.iloc[:, :-1]\n",
    "\n"
   ]
  },
  {
   "cell_type": "code",
   "execution_count": 129,
   "metadata": {},
   "outputs": [],
   "source": [
    "file_path = \"E:/MedBank/head_model/NGS/NGS_1/train/feature_vectors.csv\"\n",
    "df_train.to_csv(file_path, index=False, header=False)\n",
    "\n",
    "file_path = \"E:/MedBank/head_model/NGS/NGS_1/test/feature_vectors.csv\"\n",
    "df_test.to_csv(file_path, index=False, header=False)\n",
    "\n",
    "\n",
    "##-------------------------------------------------------\n",
    "\n",
    "\n",
    "file_path = \"E:/MedBank/head_model/NGS/NGS_1/train/labels.txt\"\n",
    "with open(file_path, 'w') as file:\n",
    "    for label in labels_train:\n",
    "        file.write(f\"{label}\\n\")\n",
    "\n",
    "file_path = \"E:/MedBank/head_model/NGS/NGS_1/test/labels.txt\"\n",
    "with open(file_path, 'w') as file:\n",
    "    for label in labels_test:\n",
    "        file.write(f\"{label}\\n\")\n",
    "\n",
    "\n",
    "\n",
    "##--------------------------------------------------------\n",
    "\n",
    "\n",
    "file_path = \"E:/MedBank/head_model/NGS/NGS_1/feature_names.txt\"\n",
    "with open(file_path, 'w') as file:\n",
    "    for label in features:\n",
    "        file.write(f\"{label}\\n\")\n",
    "\n",
    "\n",
    "    \n"
   ]
  }
 ],
 "metadata": {
  "kernelspec": {
   "display_name": "myenv",
   "language": "python",
   "name": "python3"
  },
  "language_info": {
   "codemirror_mode": {
    "name": "ipython",
    "version": 3
   },
   "file_extension": ".py",
   "mimetype": "text/x-python",
   "name": "python",
   "nbconvert_exporter": "python",
   "pygments_lexer": "ipython3",
   "version": "3.12.2"
  }
 },
 "nbformat": 4,
 "nbformat_minor": 2
}
